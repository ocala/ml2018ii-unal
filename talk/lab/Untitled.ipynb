{
 "cells": [
  {
   "cell_type": "code",
   "execution_count": 2,
   "metadata": {},
   "outputs": [
    {
     "data": {
      "text/html": [
       "<div>\n",
       "<style scoped>\n",
       "    .dataframe tbody tr th:only-of-type {\n",
       "        vertical-align: middle;\n",
       "    }\n",
       "\n",
       "    .dataframe tbody tr th {\n",
       "        vertical-align: top;\n",
       "    }\n",
       "\n",
       "    .dataframe thead th {\n",
       "        text-align: right;\n",
       "    }\n",
       "</style>\n",
       "<table border=\"1\" class=\"dataframe\">\n",
       "  <thead>\n",
       "    <tr style=\"text-align: right;\">\n",
       "      <th></th>\n",
       "      <th>category</th>\n",
       "      <th>price</th>\n",
       "      <th>area</th>\n",
       "      <th>rooms</th>\n",
       "      <th>baths</th>\n",
       "      <th>garages</th>\n",
       "      <th>stratification</th>\n",
       "      <th>latitude</th>\n",
       "      <th>longitude</th>\n",
       "      <th>management_fee</th>\n",
       "    </tr>\n",
       "  </thead>\n",
       "  <tbody>\n",
       "    <tr>\n",
       "      <th>0</th>\n",
       "      <td>-1</td>\n",
       "      <td>9300000000</td>\n",
       "      <td>2000</td>\n",
       "      <td>5</td>\n",
       "      <td>5</td>\n",
       "      <td>4</td>\n",
       "      <td>6</td>\n",
       "      <td>4.677907</td>\n",
       "      <td>-74.043915</td>\n",
       "      <td>0</td>\n",
       "    </tr>\n",
       "    <tr>\n",
       "      <th>1</th>\n",
       "      <td>-1</td>\n",
       "      <td>6000000000</td>\n",
       "      <td>1170</td>\n",
       "      <td>4</td>\n",
       "      <td>5</td>\n",
       "      <td>4</td>\n",
       "      <td>6</td>\n",
       "      <td>4.695704</td>\n",
       "      <td>-74.037720</td>\n",
       "      <td>0</td>\n",
       "    </tr>\n",
       "    <tr>\n",
       "      <th>2</th>\n",
       "      <td>-1</td>\n",
       "      <td>2100000000</td>\n",
       "      <td>1000</td>\n",
       "      <td>4</td>\n",
       "      <td>4</td>\n",
       "      <td>3</td>\n",
       "      <td>5</td>\n",
       "      <td>4.766462</td>\n",
       "      <td>-74.065681</td>\n",
       "      <td>1000000</td>\n",
       "    </tr>\n",
       "    <tr>\n",
       "      <th>3</th>\n",
       "      <td>-1</td>\n",
       "      <td>2700000000</td>\n",
       "      <td>900</td>\n",
       "      <td>1</td>\n",
       "      <td>0</td>\n",
       "      <td>0</td>\n",
       "      <td>3</td>\n",
       "      <td>4.665906</td>\n",
       "      <td>-74.140959</td>\n",
       "      <td>0</td>\n",
       "    </tr>\n",
       "    <tr>\n",
       "      <th>4</th>\n",
       "      <td>-1</td>\n",
       "      <td>4500000000</td>\n",
       "      <td>850</td>\n",
       "      <td>1</td>\n",
       "      <td>4</td>\n",
       "      <td>0</td>\n",
       "      <td>6</td>\n",
       "      <td>4.670842</td>\n",
       "      <td>-74.042856</td>\n",
       "      <td>0</td>\n",
       "    </tr>\n",
       "  </tbody>\n",
       "</table>\n",
       "</div>"
      ],
      "text/plain": [
       "   category       price  area  rooms  baths  garages  stratification  \\\n",
       "0        -1  9300000000  2000      5      5        4               6   \n",
       "1        -1  6000000000  1170      4      5        4               6   \n",
       "2        -1  2100000000  1000      4      4        3               5   \n",
       "3        -1  2700000000   900      1      0        0               3   \n",
       "4        -1  4500000000   850      1      4        0               6   \n",
       "\n",
       "   latitude  longitude  management_fee  \n",
       "0  4.677907 -74.043915               0  \n",
       "1  4.695704 -74.037720               0  \n",
       "2  4.766462 -74.065681         1000000  \n",
       "3  4.665906 -74.140959               0  \n",
       "4  4.670842 -74.042856               0  "
      ]
     },
     "execution_count": 2,
     "metadata": {},
     "output_type": "execute_result"
    }
   ],
   "source": [
    "import numpy as np\n",
    "import pandas as pd\n",
    "import matplotlib.pyplot as plt\n",
    "\n",
    "plt.rcParams[\"figure.figsize\"] = (12, 4) # (w, h)\n",
    "\n",
    "df = pd.read_csv(\"data/bog_houses.csv\",\",\", header=0)\n",
    "df.head()"
   ]
  },
  {
   "cell_type": "code",
   "execution_count": 3,
   "metadata": {
    "scrolled": true
   },
   "outputs": [
    {
     "data": {
      "text/plain": [
       "Text(0, 0.5, 'Frequency')"
      ]
     },
     "execution_count": 3,
     "metadata": {},
     "output_type": "execute_result"
    },
    {
     "data": {
      "image/png": "[encoded data removed]",
      "text/plain": [
       "<Figure size 432x288 with 1 Axes>"
      ]
     },
     "metadata": {
      "needs_background": "light"
     },
     "output_type": "display_data"
    }
   ],
   "source": [
    "n, bins, patches = plt.hist(x=df.price, bins='auto', color='#0504aa',\n",
    "                            alpha=0.7, rwidth=4, range=(0,5000e6))\n",
    "plt.title(\"Bogota Houses Prices\")\n",
    "plt.xlabel('Price')\n",
    "plt.ylabel('Frequency')\n"
   ]
  },
  {
   "cell_type": "code",
   "execution_count": 4,
   "metadata": {},
   "outputs": [
    {
     "data": {
      "text/plain": [
       "Text(0, 0.5, 'Frequency')"
      ]
     },
     "execution_count": 4,
     "metadata": {},
     "output_type": "execute_result"
    },
    {
     "data": {
      "image/png": "[encoded data removed]",
      "text/plain": [
       "<Figure size 432x288 with 1 Axes>"
      ]
     },
     "metadata": {
      "needs_background": "light"
     },
     "output_type": "display_data"
    }
   ],
   "source": [
    "n, bins, patches = plt.hist(x=df.area, bins='auto', color='#0504aa',\n",
    "                            alpha=0.7, rwidth=4, range=(0,500))\n",
    "plt.title(\"Bogota Houses Areas\")\n",
    "plt.xlabel('Area')\n",
    "plt.ylabel('Frequency')"
   ]
  },
  {
   "cell_type": "code",
   "execution_count": 5,
   "metadata": {},
   "outputs": [
    {
     "data": {
      "text/plain": [
       "Text(0, 0.5, 'Frequency')"
      ]
     },
     "execution_count": 5,
     "metadata": {},
     "output_type": "execute_result"
    },
    {
     "data": {
      "image/png": "[encoded data removed]",
      "text/plain": [
       "<Figure size 432x288 with 1 Axes>"
      ]
     },
     "metadata": {
      "needs_background": "light"
     },
     "output_type": "display_data"
    }
   ],
   "source": [
    "n, bins, patches = plt.hist(x=df.rooms, bins='auto', color='#0504aa',\n",
    "                            alpha=0.7, rwidth=4, range=(0,12))\n",
    "plt.title(\"Bogota Houses Rooms\")\n",
    "plt.xlabel('Rooms')\n",
    "plt.ylabel('Frequency')"
   ]
  },
  {
   "cell_type": "code",
   "execution_count": 6,
   "metadata": {},
   "outputs": [
    {
     "data": {
      "text/plain": [
       "Text(0, 0.5, 'Frequency')"
      ]
     },
     "execution_count": 6,
     "metadata": {},
     "output_type": "execute_result"
    },
    {
     "data": {
      "image/png": "[encoded data removed]",
      "text/plain": [
       "<Figure size 432x288 with 1 Axes>"
      ]
     },
     "metadata": {
      "needs_background": "light"
     },
     "output_type": "display_data"
    }
   ],
   "source": [
    "n, bins, patches = plt.hist(x=df.baths, bins='auto', color='#0504aa',\n",
    "                            alpha=0.7, rwidth=4, range=(0,12))\n",
    "plt.title(\"Bogota Houses Baths\")\n",
    "plt.xlabel('Baths')\n",
    "plt.ylabel('Frequency')"
   ]
  },
  {
   "cell_type": "code",
   "execution_count": 7,
   "metadata": {},
   "outputs": [
    {
     "data": {
      "text/plain": [
       "Text(0, 0.5, 'Frequency')"
      ]
     },
     "execution_count": 7,
     "metadata": {},
     "output_type": "execute_result"
    },
    {
     "data": {
      "image/png": "[encoded data removed]",
      "text/plain": [
       "<Figure size 432x288 with 1 Axes>"
      ]
     },
     "metadata": {
      "needs_background": "light"
     },
     "output_type": "display_data"
    }
   ],
   "source": [
    "n, bins, patches = plt.hist(x=df.stratification, bins='auto', color='#0504aa',\n",
    "                            alpha=0.7, rwidth=4, range=(0,12))\n",
    "plt.title(\"Bogota Houses Stratification\")\n",
    "plt.xlabel('Stratification')\n",
    "plt.ylabel('Frequency')"
   ]
  },
  {
   "cell_type": "code",
   "execution_count": 8,
   "metadata": {},
   "outputs": [],
   "source": [
    "from sklearn.ensemble import RandomForestRegressor\n",
    "from sklearn.model_selection import train_test_split\n",
    "\n",
    "# NOTE: Make sure that the class is labeled 'target' in the data file\n",
    "features = df.drop('price', axis=1).values\n",
    "training_features, testing_features, training_target, testing_target = \\\n",
    "            train_test_split(features, df['price'].values, random_state=42)\n",
    "\n",
    "# Average CV score on the training set was:-9.0579408426e+16\n",
    "exported_pipeline = RandomForestRegressor(bootstrap=True, max_features=0.95, min_samples_leaf=2, min_samples_split=9, n_estimators=100)\n",
    "\n",
    "exported_pipeline.fit(training_features, training_target)\n",
    "results = exported_pipeline.predict(testing_features)\n"
   ]
  },
  {
   "cell_type": "code",
   "execution_count": 12,
   "metadata": {},
   "outputs": [
    {
     "data": {
      "text/plain": [
       "array([[-1.00000000e+00,  2.50000000e+02,  4.00000000e+00, ...,\n",
       "         4.72753950e+00, -7.40728760e+01,  6.89000000e+05],\n",
       "       [-1.00000000e+00,  2.77000000e+02,  3.00000000e+00, ...,\n",
       "         4.70742416e+00, -7.40483856e+01,  0.00000000e+00],\n",
       "       [ 1.00000000e+00,  7.50000000e+01,  2.00000000e+00, ...,\n",
       "         4.74100018e+00, -7.40839996e+01,  0.00000000e+00],\n",
       "       ...,\n",
       "       [ 1.00000000e+00,  3.80000000e+01,  1.00000000e+00, ...,\n",
       "         4.62550418e+00, -7.41173707e+01,  0.00000000e+00],\n",
       "       [-1.00000000e+00,  7.70000000e+01,  3.00000000e+00, ...,\n",
       "         4.66504765e+00, -7.40817719e+01,  2.00000000e+05],\n",
       "       [ 1.00000000e+00,  6.70000000e+01,  3.00000000e+00, ...,\n",
       "         4.64349842e+00, -7.41268158e+01,  1.70000000e+05]])"
      ]
     },
     "execution_count": 12,
     "metadata": {},
     "output_type": "execute_result"
    }
   ],
   "source": [
    "testing_features\n"
   ]
  },
  {
   "cell_type": "code",
   "execution_count": 13,
   "metadata": {},
   "outputs": [
    {
     "data": {
      "text/plain": [
       "array([1.09480550e+09, 1.65013707e+09, 3.15919394e+08, 2.93662227e+08,\n",
       "       3.45064065e+08, 1.26467094e+08, 2.36313343e+08, 4.72501031e+08,\n",
       "       1.48601055e+08, 1.15220890e+09, 5.89300515e+08, 7.89145282e+08,\n",
       "       1.39525494e+08, 2.65584539e+08, 1.83312899e+09, 2.34722432e+08,\n",
       "       7.50890501e+08, 1.31418512e+08, 8.20580747e+08, 4.92445624e+08,\n",
       "       6.23313946e+08, 2.05643454e+09, 2.54305210e+08, 8.38416270e+08,\n",
       "       1.63435636e+08, 1.21372506e+08, 1.13726507e+09, 2.36639640e+08,\n",
       "       3.78280023e+08, 2.39707694e+08, 4.05016820e+08, 3.33596204e+08,\n",
       "       4.22733720e+08, 5.96662917e+08, 6.35516365e+08, 2.09078314e+09,\n",
       "       1.18209355e+08, 2.86171861e+08, 5.55535458e+08, 3.89796853e+08,\n",
       "       5.41625884e+08, 5.82409871e+08, 5.15556149e+08, 1.69987909e+09,\n",
       "       7.44965462e+08, 8.38865770e+08, 4.43254950e+08, 1.43556687e+08,\n",
       "       3.41590301e+08, 6.98303063e+08, 1.16717968e+09, 3.49213981e+08,\n",
       "       2.40005788e+08, 1.33806646e+09, 1.72244741e+09, 3.52247257e+08,\n",
       "       1.48552266e+08, 4.93437794e+09, 1.01277371e+09, 1.66754087e+09,\n",
       "       1.88186765e+09, 2.28184977e+08, 2.79015956e+09, 4.37478969e+08,\n",
       "       7.93514481e+08, 4.29993944e+08, 5.55116280e+08, 3.28274588e+08,\n",
       "       2.61895543e+08, 9.90066948e+08, 1.44450356e+09, 1.44575389e+09,\n",
       "       2.18803831e+08, 6.13486306e+08, 4.26599593e+08, 5.88634040e+08,\n",
       "       3.62438280e+08, 6.58368501e+08, 9.45324811e+08, 7.78461686e+08,\n",
       "       2.12107970e+08, 2.09047012e+08, 4.94519918e+08, 3.07063787e+08,\n",
       "       4.74307505e+08, 1.09073249e+09, 6.51323313e+08, 5.72045443e+08,\n",
       "       5.14258399e+08, 3.16728601e+09, 3.78764314e+08, 2.86546359e+09,\n",
       "       1.39332959e+09, 2.21094010e+09, 2.37259742e+08, 4.63967059e+08,\n",
       "       3.11328910e+08, 4.45428448e+08, 1.73832115e+08, 2.64534656e+08,\n",
       "       3.23064735e+08, 7.98505771e+08, 4.36328055e+08, 4.16991240e+08,\n",
       "       3.28082385e+08, 2.34098137e+08, 2.51455555e+08, 6.87939238e+08,\n",
       "       6.64644187e+08, 3.85080923e+09, 1.50224681e+09, 4.69147845e+08,\n",
       "       8.71057821e+08, 5.10757292e+08, 2.52997810e+09, 4.13674932e+08,\n",
       "       2.12140536e+09, 2.25041498e+08, 1.15118468e+09, 9.10079178e+08,\n",
       "       1.96927037e+08, 6.22582900e+08, 4.38114741e+08, 9.23932888e+08,\n",
       "       2.62017896e+08, 4.38497041e+08, 8.06733420e+08, 7.37828252e+08,\n",
       "       1.42083520e+09, 4.00839035e+08, 1.35043056e+09, 4.12076693e+08,\n",
       "       1.02195304e+09, 1.71741511e+09, 2.99739297e+09, 5.56935183e+08,\n",
       "       1.97088364e+09, 4.64402258e+08, 3.55098537e+08, 4.20288581e+08,\n",
       "       4.44902889e+08, 4.75544483e+08, 1.77098849e+08, 4.39471964e+08,\n",
       "       2.59010672e+08, 1.62261709e+09, 8.72706964e+08, 5.27716653e+08,\n",
       "       1.03976228e+09, 8.60414586e+08, 1.01692920e+09, 1.06425429e+09,\n",
       "       3.77448523e+08, 7.59523570e+08, 1.72632902e+09, 1.04772504e+09,\n",
       "       1.43042479e+08, 9.65404548e+08, 4.41843806e+08, 4.07288661e+08,\n",
       "       2.11256022e+09, 1.22925564e+09, 8.98155944e+08, 5.44340008e+08,\n",
       "       1.25279796e+09, 1.11018231e+09, 3.05697002e+08, 1.10270783e+09,\n",
       "       3.09410413e+08, 1.00819103e+09, 1.43897996e+09, 1.30577676e+09,\n",
       "       8.44265713e+08, 2.41034207e+08, 1.90203007e+08, 6.87505554e+08,\n",
       "       6.01769575e+08, 1.50113057e+09, 7.85176778e+08, 1.01692920e+09,\n",
       "       3.21495392e+08, 2.27522369e+08, 2.33152427e+08, 2.91779791e+08,\n",
       "       6.46132820e+08, 5.10394326e+08, 8.41422103e+08, 9.02642715e+08,\n",
       "       3.26258015e+08, 2.55452032e+09, 4.44686698e+08, 1.60031994e+08,\n",
       "       1.99473804e+09, 3.45911535e+08, 2.98011919e+08, 2.79341539e+08,\n",
       "       7.41101224e+08, 3.31765482e+08, 2.29408558e+08, 7.87828053e+08,\n",
       "       1.89658537e+09, 9.32647696e+08, 2.75727047e+08, 3.91094208e+08,\n",
       "       2.55440025e+08, 6.64644187e+08, 1.49948146e+08, 6.09878657e+08,\n",
       "       1.00198627e+09, 4.08006270e+08, 2.68352197e+08, 3.61416837e+08,\n",
       "       3.70888157e+08, 3.18522254e+08, 9.55098655e+08, 2.14877185e+08,\n",
       "       4.94248074e+08, 4.58977786e+08, 6.49614836e+08, 6.08229674e+08,\n",
       "       4.14772031e+08, 3.57355300e+08, 6.83310045e+08, 1.02000567e+09,\n",
       "       7.38459893e+08, 1.32059628e+09, 9.88887814e+08, 7.68470736e+08,\n",
       "       1.47059983e+08, 7.99687370e+08, 2.80693664e+08, 2.31180879e+09,\n",
       "       2.74087920e+08, 2.42237290e+08, 2.15052512e+08, 4.22001783e+08,\n",
       "       6.25622681e+08, 8.67587532e+08, 1.47034758e+09, 3.45242614e+08,\n",
       "       1.22535552e+08, 4.34279960e+08, 3.00719518e+08, 1.28660927e+09,\n",
       "       5.91258219e+08, 3.42314486e+08, 2.99360633e+09, 9.50945856e+08,\n",
       "       4.81718453e+08, 1.85400273e+09, 1.94255487e+09, 2.38779299e+08,\n",
       "       2.96629718e+09, 4.11292820e+08, 3.21908848e+08, 9.90468601e+08,\n",
       "       2.66320443e+08, 3.39084969e+08, 1.73719299e+09, 6.11655399e+08,\n",
       "       7.96799456e+08, 4.27512146e+08, 8.45667014e+08, 6.23056846e+08,\n",
       "       4.06807266e+08, 2.63445712e+08, 4.72894309e+08, 1.22901141e+09,\n",
       "       3.29007208e+08, 2.39625181e+08, 2.50432530e+09, 4.49100300e+08,\n",
       "       6.09140989e+08, 1.16625350e+09, 5.17368091e+08, 5.70752854e+08,\n",
       "       1.43425403e+09, 7.25655785e+08, 2.29692700e+09, 3.48619459e+08,\n",
       "       1.88063941e+09, 6.77136971e+08, 1.82988925e+09, 1.16044418e+09,\n",
       "       2.77658619e+08, 8.52783934e+08, 3.25323636e+08, 6.87939238e+08,\n",
       "       6.44135266e+08, 4.31437494e+08, 6.91707726e+08, 2.27445502e+08,\n",
       "       2.01664362e+09, 9.70719812e+08, 7.36265102e+08, 2.69477953e+08,\n",
       "       1.42653931e+08, 2.87834505e+08, 2.01330287e+08, 3.97435343e+08,\n",
       "       9.67220344e+08, 1.74707916e+08, 7.90750810e+08, 5.10996024e+08,\n",
       "       1.00593874e+09, 3.64397551e+09, 4.38790390e+08, 8.86728059e+08,\n",
       "       5.72550130e+08, 7.38701101e+08, 8.71070155e+08, 9.65578794e+08,\n",
       "       7.05856241e+08, 4.54102070e+08, 1.97964461e+08, 5.04487606e+08,\n",
       "       1.61025750e+09, 6.35536820e+08, 7.85002663e+08, 3.90624777e+08,\n",
       "       3.19998027e+08, 2.88109255e+08, 6.28478092e+08, 1.03949648e+09,\n",
       "       9.68386832e+08, 1.72007298e+09, 2.84007725e+08, 5.40189360e+08,\n",
       "       1.49794131e+08, 5.73528953e+08, 1.70122706e+08, 4.05016820e+08,\n",
       "       4.51705696e+08, 5.70606677e+08, 1.70993784e+09, 6.66754436e+08,\n",
       "       2.82595109e+09, 5.59502500e+08, 7.46452103e+08, 2.40288256e+09,\n",
       "       8.57761840e+08, 2.29590649e+08, 2.72912332e+08, 2.76248820e+08,\n",
       "       2.69548527e+08, 6.14052062e+08, 8.49116031e+08, 3.63540011e+08,\n",
       "       4.81613832e+08, 5.96540765e+08, 6.75752267e+08, 6.26277127e+08,\n",
       "       7.63152726e+08, 2.29182762e+08, 2.51639969e+09, 2.46839590e+08,\n",
       "       2.24269485e+08, 2.80157200e+09, 5.85352819e+08, 2.41988168e+08,\n",
       "       4.41814149e+08, 4.28622564e+08, 1.53573932e+09, 2.07726963e+08,\n",
       "       1.68622424e+09, 1.76045627e+09, 8.30516634e+08, 5.09087378e+08,\n",
       "       3.28406538e+08, 3.37183988e+08, 8.62585375e+08, 5.19493897e+08,\n",
       "       1.03330259e+09, 6.43480752e+08, 1.67265111e+09, 2.57997274e+08,\n",
       "       4.84482062e+08, 1.44398743e+09, 2.70030028e+08, 4.66174710e+08,\n",
       "       4.63308466e+08, 3.74726222e+08, 3.37151899e+08, 4.08591874e+08,\n",
       "       4.73483382e+09, 5.74249748e+08, 4.69428029e+08, 1.56370182e+08,\n",
       "       4.81159658e+08, 3.17728537e+08, 8.89869198e+08, 4.76147524e+08,\n",
       "       6.94187483e+08, 3.54509629e+08, 1.68189780e+09, 9.59555602e+08,\n",
       "       9.03297240e+08, 2.12488030e+09, 2.68928818e+08, 3.59742590e+08,\n",
       "       5.47924394e+08, 1.14322618e+09, 5.63579376e+08, 1.73904540e+09,\n",
       "       3.48116019e+08, 2.62617843e+08, 2.33814480e+09, 5.89492237e+08,\n",
       "       5.83425325e+08, 1.91315882e+08, 9.80760563e+08, 1.57158740e+08,\n",
       "       2.86546359e+09, 2.66862050e+09, 9.10885862e+08, 9.79858568e+08,\n",
       "       2.58617039e+08, 2.41274364e+09, 3.19763840e+08, 6.77468855e+08,\n",
       "       2.89602309e+08, 2.38651103e+08, 3.61510566e+08, 9.90592413e+08,\n",
       "       4.24159376e+08, 3.33045600e+08, 8.46113741e+08, 2.95271062e+08,\n",
       "       8.11828849e+08, 2.22391039e+08, 1.52092978e+08, 1.27355473e+09,\n",
       "       7.46158376e+08, 6.01648406e+08, 1.82901902e+09, 5.11792512e+08,\n",
       "       3.68123305e+08, 1.50274881e+09, 2.08033612e+08, 4.14836784e+08,\n",
       "       6.62239940e+08, 4.22626509e+08, 1.14522881e+09, 6.04071911e+08,\n",
       "       1.12991170e+09, 3.83284335e+08, 3.01373485e+08, 3.05147827e+08,\n",
       "       3.37067313e+08, 9.92740566e+08, 7.33944467e+08, 4.11677041e+08,\n",
       "       2.40240413e+09, 2.29930098e+09, 1.35205319e+08, 7.37889439e+08,\n",
       "       1.27636661e+09, 2.25257563e+08, 2.01572214e+08, 1.37337154e+08,\n",
       "       2.08670475e+09, 8.02660364e+08, 5.85756918e+08, 2.56348667e+08,\n",
       "       9.51859250e+08, 3.99746612e+08, 3.99476260e+08, 7.11800827e+08,\n",
       "       6.92719917e+08, 4.66092357e+08, 3.28521658e+08, 3.51859938e+08,\n",
       "       2.75727047e+08, 1.47882963e+09, 1.97148177e+08, 2.94078896e+08,\n",
       "       6.21914473e+08, 1.37303396e+09, 7.41408322e+08, 2.78741820e+08,\n",
       "       1.16717968e+09, 1.10390728e+09, 3.80641305e+08, 2.73492926e+08,\n",
       "       3.42404497e+08, 6.90227230e+08, 7.35616570e+08, 6.58302380e+08,\n",
       "       5.37687866e+08, 2.92853861e+08, 4.48074910e+08, 9.39626486e+08,\n",
       "       3.77586087e+08, 4.69001437e+08, 4.28113186e+08, 3.58671225e+08,\n",
       "       1.59384280e+08, 8.20020484e+08, 1.25250580e+08, 9.72375140e+08,\n",
       "       6.30356236e+08, 2.74295898e+08, 1.65925767e+09, 3.06102264e+08,\n",
       "       5.50676358e+08, 1.19795722e+09, 3.42450313e+08, 2.74271886e+08,\n",
       "       3.19819091e+08, 5.12925040e+08, 7.32258898e+08, 1.27322732e+08,\n",
       "       5.87428764e+08, 3.55251443e+08, 5.35937235e+08, 1.85506955e+09,\n",
       "       1.54092557e+08, 1.18683778e+09, 1.04772504e+09, 1.97957355e+08,\n",
       "       2.55659668e+08, 6.30898037e+08, 5.12912566e+08, 4.15138887e+08,\n",
       "       2.47668327e+08, 2.87834505e+08, 4.97653688e+08, 8.98988603e+08,\n",
       "       9.80428498e+08, 1.87504279e+08, 3.62528374e+08, 4.69070599e+08,\n",
       "       2.96629718e+09, 5.94832399e+08, 3.99032140e+08, 4.21548293e+08,\n",
       "       1.28064227e+09, 3.70735345e+08, 6.63269643e+08, 1.48628477e+09,\n",
       "       4.78558286e+08, 2.38152237e+08, 3.24463869e+08, 4.96041589e+08,\n",
       "       9.80428498e+08, 2.49303574e+09, 1.60210948e+08, 1.51378806e+08,\n",
       "       1.85400273e+09, 3.94457282e+08, 8.43042908e+08, 3.53185004e+08,\n",
       "       7.54625295e+08, 8.80978239e+08, 2.06714746e+08, 5.79137857e+08,\n",
       "       1.58950654e+08, 1.91176086e+08, 2.53846870e+08, 3.03215273e+08,\n",
       "       5.85235487e+08, 7.26219217e+08, 3.22450770e+09, 1.59974685e+08,\n",
       "       5.05322194e+08, 6.46508801e+08, 7.99686054e+08, 1.13749232e+09,\n",
       "       3.31100264e+08, 1.06766325e+09, 2.72089919e+09, 6.21929249e+08,\n",
       "       6.66247669e+08, 8.07582049e+08, 8.15804206e+08, 1.19292605e+09,\n",
       "       4.49230952e+08, 3.10766484e+08, 3.06405384e+08, 9.21499181e+08,\n",
       "       7.50617234e+08, 6.23101689e+08, 4.46296508e+08, 2.97398011e+09,\n",
       "       1.43030273e+08, 3.13065387e+08, 1.25009776e+08, 8.47349083e+08,\n",
       "       7.66263037e+08, 8.13142887e+08, 1.34014707e+08, 4.28539918e+08,\n",
       "       1.06057666e+09, 1.49907519e+09, 5.81343138e+08, 8.56016872e+08,\n",
       "       4.60373279e+08, 7.97068112e+08, 4.06131724e+08, 1.90129974e+09,\n",
       "       1.57809725e+08, 1.85767562e+08, 5.35925796e+08, 5.47129217e+08,\n",
       "       5.10129054e+08, 6.75778802e+08, 1.55970385e+09, 6.25626721e+08,\n",
       "       5.11330959e+08, 1.21680835e+08, 4.51124170e+08, 1.67617652e+09,\n",
       "       2.55446678e+08, 1.28590997e+09, 1.25884515e+09, 1.37898151e+09,\n",
       "       2.92538973e+08, 1.50831170e+08, 1.15102840e+09, 7.21495951e+08,\n",
       "       1.79650016e+08, 2.49088137e+08, 4.03424807e+08, 8.26890919e+08,\n",
       "       6.03361374e+08, 2.97525642e+08, 1.44289404e+09, 2.42944433e+09,\n",
       "       3.02706980e+08, 7.80715103e+08, 1.88251160e+08, 1.32946189e+08,\n",
       "       4.24854948e+08, 3.80189935e+08, 1.66624611e+08, 3.63421466e+08,\n",
       "       9.71696774e+08, 1.85622480e+08, 1.11667564e+09, 7.50193968e+08,\n",
       "       1.29791050e+09, 2.57177195e+08, 6.23286740e+08, 3.11500840e+08,\n",
       "       3.42648489e+08, 4.91953236e+08, 3.22019437e+08, 1.90538409e+08,\n",
       "       2.77133001e+08, 3.37834699e+08, 2.06460903e+08, 3.13237757e+08,\n",
       "       9.34670927e+08, 3.52826156e+08, 3.66249909e+08, 1.50565860e+08,\n",
       "       3.03197846e+08, 2.83995102e+08, 1.94484460e+08, 3.96697551e+08,\n",
       "       8.71131229e+08, 4.43426347e+08, 1.03777610e+09, 1.19402680e+09,\n",
       "       6.17692107e+08, 2.10463225e+08, 6.71579649e+08, 3.88558133e+08,\n",
       "       5.08948497e+08, 3.60200914e+08, 9.58436315e+08, 1.75661810e+08,\n",
       "       2.00728802e+08, 1.38488090e+09, 3.98354496e+08, 1.12239055e+09,\n",
       "       7.28429042e+08, 1.33902381e+09, 4.19211280e+09, 1.41760357e+08,\n",
       "       6.61410169e+08, 3.26138925e+08, 7.78555136e+08, 2.98906006e+08,\n",
       "       3.36601640e+08, 4.94688793e+08, 6.74238082e+08, 8.09806762e+08,\n",
       "       4.25168899e+08, 2.47339511e+08, 2.02726159e+08, 1.95769824e+08,\n",
       "       1.22721472e+09, 2.14491744e+08, 1.06177180e+09, 8.90764005e+08,\n",
       "       1.54941691e+09, 2.70256699e+08, 3.74426033e+08, 3.64649029e+08,\n",
       "       1.42739757e+09, 7.86515649e+08, 3.89627322e+08, 7.60324809e+08,\n",
       "       1.58232263e+09, 5.66128333e+08, 3.72028368e+08, 3.20667507e+08,\n",
       "       1.39080857e+09, 1.92460984e+08, 4.22393116e+08, 2.20636039e+08,\n",
       "       2.63166922e+08, 1.69987909e+09, 1.77633137e+08, 1.93315845e+08,\n",
       "       2.53925781e+08, 1.07987471e+09, 4.31437494e+08, 7.53719984e+08,\n",
       "       1.11042101e+09, 2.25777093e+09, 7.36257388e+08, 1.38596652e+09,\n",
       "       8.24383343e+08, 5.94408361e+08, 1.25754231e+09, 1.28231626e+09,\n",
       "       2.58127910e+08, 6.86640308e+08, 3.82981273e+08, 1.46977660e+09,\n",
       "       6.76610012e+08, 5.05543435e+08, 2.85861939e+08, 2.25741276e+08,\n",
       "       8.19396318e+08, 2.29305116e+08, 6.25954673e+08, 1.27249284e+08,\n",
       "       3.40011315e+08, 2.19091192e+08, 1.86529301e+08, 5.73807114e+08,\n",
       "       9.59719037e+08, 2.71020583e+08, 1.89685642e+08, 3.86649513e+08,\n",
       "       8.49888740e+08, 4.54307533e+08, 1.39744506e+09, 3.07332969e+09,\n",
       "       4.78536328e+08, 2.28137970e+08, 5.22260820e+08, 1.38482020e+08,\n",
       "       1.24850357e+09, 2.76368075e+08, 2.86546359e+09, 1.34735029e+08,\n",
       "       3.06760055e+09, 3.39527258e+08, 4.10371587e+08, 1.82450109e+08,\n",
       "       4.21315541e+08, 1.35698412e+09, 4.15545498e+08, 7.21124900e+08,\n",
       "       7.78664832e+08, 1.09501457e+09, 4.50818212e+08, 7.64618128e+08,\n",
       "       2.88596638e+09, 3.91951514e+09, 4.67319608e+08, 1.09822333e+09,\n",
       "       2.79737991e+08, 7.75187956e+08, 2.27220728e+09, 3.73267855e+08,\n",
       "       4.93401897e+08, 9.94100955e+08, 1.37482962e+08, 1.02924679e+09,\n",
       "       1.91135118e+09, 2.70956381e+08, 8.93375323e+08, 1.69473345e+08,\n",
       "       2.52651881e+08, 8.01623787e+08, 9.19288605e+08, 2.41670496e+08,\n",
       "       1.86415841e+08, 2.82895057e+08, 5.98467017e+08, 9.07481608e+08,\n",
       "       2.87970629e+08, 5.42454655e+08, 5.23149004e+08, 5.89992243e+08,\n",
       "       1.93162181e+09, 3.99003191e+08, 8.44514339e+08, 8.98105285e+08,\n",
       "       2.70510033e+08, 3.28660816e+08, 2.00162865e+08, 9.39178165e+08,\n",
       "       1.44145046e+08, 6.03566106e+08, 2.37102598e+09, 8.75113290e+08,\n",
       "       2.73730513e+08, 3.60652496e+08, 1.03030287e+09, 1.07192839e+09,\n",
       "       2.61728025e+08, 3.46786101e+08, 6.37260837e+08, 3.48178050e+08,\n",
       "       1.11559044e+09, 1.59327901e+08, 4.82049900e+08, 1.60346390e+09,\n",
       "       5.39348344e+08, 1.08347864e+09, 3.43401081e+08, 2.58439953e+09,\n",
       "       7.84258894e+08, 9.97270361e+08, 1.46901915e+09, 3.21023570e+08,\n",
       "       1.92372421e+08, 8.21607466e+08, 1.36788473e+09, 7.33915748e+08,\n",
       "       2.27037953e+08, 3.56838178e+08, 2.90018242e+08])"
      ]
     },
     "execution_count": 13,
     "metadata": {},
     "output_type": "execute_result"
    }
   ],
   "source": [
    "results"
   ]
  },
  {
   "cell_type": "code",
   "execution_count": null,
   "metadata": {},
   "outputs": [],
   "source": []
  }
 ],
 "metadata": {
  "kernelspec": {
   "display_name": "Python 3",
   "language": "python",
   "name": "python3"
  },
  "language_info": {
   "codemirror_mode": {
    "name": "ipython",
    "version": 3
   },
   "file_extension": ".py",
   "mimetype": "text/x-python",
   "name": "python",
   "nbconvert_exporter": "python",
   "pygments_lexer": "ipython3",
   "version": "3.7.1"
  }
 },
 "nbformat": 4,
 "nbformat_minor": 2
}
